{
 "cells": [
  {
   "cell_type": "code",
   "execution_count": 1,
   "id": "cef7a4dd",
   "metadata": {},
   "outputs": [],
   "source": [
    "# импорт необходимых библиотек\n",
    "import pandas as pd\n",
    "import re\n",
    "from pymystem3 import Mystem\n",
    "from IPython.display import display\n",
    "pd.options.display.max_colwidth = 100\n",
    "import warnings\n",
    "warnings.filterwarnings('ignore')"
   ]
  },
  {
   "cell_type": "code",
   "execution_count": 2,
   "id": "cf66c186",
   "metadata": {},
   "outputs": [
    {
     "data": {
      "text/html": [
       "<div>\n",
       "<style scoped>\n",
       "    .dataframe tbody tr th:only-of-type {\n",
       "        vertical-align: middle;\n",
       "    }\n",
       "\n",
       "    .dataframe tbody tr th {\n",
       "        vertical-align: top;\n",
       "    }\n",
       "\n",
       "    .dataframe thead th {\n",
       "        text-align: right;\n",
       "    }\n",
       "</style>\n",
       "<table border=\"1\" class=\"dataframe\">\n",
       "  <thead>\n",
       "    <tr style=\"text-align: right;\">\n",
       "      <th></th>\n",
       "      <th>dlg_id</th>\n",
       "      <th>line_n</th>\n",
       "      <th>role</th>\n",
       "      <th>text</th>\n",
       "    </tr>\n",
       "  </thead>\n",
       "  <tbody>\n",
       "    <tr>\n",
       "      <th>0</th>\n",
       "      <td>0</td>\n",
       "      <td>0</td>\n",
       "      <td>client</td>\n",
       "      <td>Алло</td>\n",
       "    </tr>\n",
       "    <tr>\n",
       "      <th>1</th>\n",
       "      <td>0</td>\n",
       "      <td>1</td>\n",
       "      <td>manager</td>\n",
       "      <td>Алло здравствуйте</td>\n",
       "    </tr>\n",
       "    <tr>\n",
       "      <th>2</th>\n",
       "      <td>0</td>\n",
       "      <td>2</td>\n",
       "      <td>client</td>\n",
       "      <td>Добрый день</td>\n",
       "    </tr>\n",
       "    <tr>\n",
       "      <th>3</th>\n",
       "      <td>0</td>\n",
       "      <td>3</td>\n",
       "      <td>manager</td>\n",
       "      <td>Меня зовут ангелина компания диджитал бизнес звоним вам по поводу продления лицензии а мы с серы...</td>\n",
       "    </tr>\n",
       "    <tr>\n",
       "      <th>4</th>\n",
       "      <td>0</td>\n",
       "      <td>4</td>\n",
       "      <td>client</td>\n",
       "      <td>Ага</td>\n",
       "    </tr>\n",
       "  </tbody>\n",
       "</table>\n",
       "</div>"
      ],
      "text/plain": [
       "   dlg_id  line_n     role  \\\n",
       "0       0       0   client   \n",
       "1       0       1  manager   \n",
       "2       0       2   client   \n",
       "3       0       3  manager   \n",
       "4       0       4   client   \n",
       "\n",
       "                                                                                                  text  \n",
       "0                                                                                                 Алло  \n",
       "1                                                                                    Алло здравствуйте  \n",
       "2                                                                                          Добрый день  \n",
       "3  Меня зовут ангелина компания диджитал бизнес звоним вам по поводу продления лицензии а мы с серы...  \n",
       "4                                                                                                  Ага  "
      ]
     },
     "metadata": {},
     "output_type": "display_data"
    }
   ],
   "source": [
    "df = pd.read_csv(r'C:\\Users\\Iya\\Downloads\\test_data.csv')\n",
    "display(df.head())"
   ]
  },
  {
   "cell_type": "markdown",
   "id": "40f70662",
   "metadata": {},
   "source": [
    "Проведем очистку и лемматизацию текста"
   ]
  },
  {
   "cell_type": "code",
   "execution_count": 3,
   "id": "8fe15e45",
   "metadata": {},
   "outputs": [],
   "source": [
    "m=Mystem()\n",
    "def lemmatize(text):\n",
    "   text = text.lower()\n",
    "   lemm_text = \"\".join(m.lemmatize(text))\n",
    "   cleared_text = re.sub(r'[^а-яА-ЯёЁ]', ' ', lemm_text)\n",
    "   return \" \".join(cleared_text.split())\n",
    "df['lemm_text'] = df['text'].apply(lemmatize)"
   ]
  },
  {
   "cell_type": "code",
   "execution_count": 4,
   "id": "1434cdf9",
   "metadata": {},
   "outputs": [
    {
     "data": {
      "text/html": [
       "<div>\n",
       "<style scoped>\n",
       "    .dataframe tbody tr th:only-of-type {\n",
       "        vertical-align: middle;\n",
       "    }\n",
       "\n",
       "    .dataframe tbody tr th {\n",
       "        vertical-align: top;\n",
       "    }\n",
       "\n",
       "    .dataframe thead th {\n",
       "        text-align: right;\n",
       "    }\n",
       "</style>\n",
       "<table border=\"1\" class=\"dataframe\">\n",
       "  <thead>\n",
       "    <tr style=\"text-align: right;\">\n",
       "      <th></th>\n",
       "      <th>dlg_id</th>\n",
       "      <th>line_n</th>\n",
       "      <th>role</th>\n",
       "      <th>text</th>\n",
       "      <th>lemm_text</th>\n",
       "    </tr>\n",
       "  </thead>\n",
       "  <tbody>\n",
       "    <tr>\n",
       "      <th>0</th>\n",
       "      <td>0</td>\n",
       "      <td>0</td>\n",
       "      <td>client</td>\n",
       "      <td>Алло</td>\n",
       "      <td>але</td>\n",
       "    </tr>\n",
       "    <tr>\n",
       "      <th>1</th>\n",
       "      <td>0</td>\n",
       "      <td>1</td>\n",
       "      <td>manager</td>\n",
       "      <td>Алло здравствуйте</td>\n",
       "      <td>але здравствовать</td>\n",
       "    </tr>\n",
       "    <tr>\n",
       "      <th>2</th>\n",
       "      <td>0</td>\n",
       "      <td>2</td>\n",
       "      <td>client</td>\n",
       "      <td>Добрый день</td>\n",
       "      <td>добрый день</td>\n",
       "    </tr>\n",
       "    <tr>\n",
       "      <th>3</th>\n",
       "      <td>0</td>\n",
       "      <td>3</td>\n",
       "      <td>manager</td>\n",
       "      <td>Меня зовут ангелина компания диджитал бизнес звоним вам по поводу продления лицензии а мы с серы...</td>\n",
       "      <td>я звать ангелина компания диджитать бизнес звонить вы по повод продление лицензия а мы с серый у...</td>\n",
       "    </tr>\n",
       "    <tr>\n",
       "      <th>4</th>\n",
       "      <td>0</td>\n",
       "      <td>4</td>\n",
       "      <td>client</td>\n",
       "      <td>Ага</td>\n",
       "      <td>ага</td>\n",
       "    </tr>\n",
       "  </tbody>\n",
       "</table>\n",
       "</div>"
      ],
      "text/plain": [
       "   dlg_id  line_n     role  \\\n",
       "0       0       0   client   \n",
       "1       0       1  manager   \n",
       "2       0       2   client   \n",
       "3       0       3  manager   \n",
       "4       0       4   client   \n",
       "\n",
       "                                                                                                  text  \\\n",
       "0                                                                                                 Алло   \n",
       "1                                                                                    Алло здравствуйте   \n",
       "2                                                                                          Добрый день   \n",
       "3  Меня зовут ангелина компания диджитал бизнес звоним вам по поводу продления лицензии а мы с серы...   \n",
       "4                                                                                                  Ага   \n",
       "\n",
       "                                                                                             lemm_text  \n",
       "0                                                                                                  але  \n",
       "1                                                                                    але здравствовать  \n",
       "2                                                                                          добрый день  \n",
       "3  я звать ангелина компания диджитать бизнес звонить вы по повод продление лицензия а мы с серый у...  \n",
       "4                                                                                                  ага  "
      ]
     },
     "metadata": {},
     "output_type": "display_data"
    }
   ],
   "source": [
    "display(df.head())"
   ]
  },
  {
   "cell_type": "markdown",
   "id": "42547d0d",
   "metadata": {},
   "source": [
    "Создадим список ключевых слов, по которым поставим метки текста. Понадобятся приветствия, прощания и представление себя"
   ]
  },
  {
   "cell_type": "code",
   "execution_count": 5,
   "id": "f8fb02bc",
   "metadata": {},
   "outputs": [],
   "source": [
    "list_greetings=['привет','добрый день', 'день добрый', 'приветствовать', 'здравствовать', 'добрый утро', \n",
    "                'утро добрый', 'добрый вечер', 'вечер добрый', 'здрасте', 'салют', 'добрый ночь', 'ночь добрый']\n",
    "list_goodbye=['прощать','до свидание']\n",
    "list_introduce= ['звать', 'имя', 'мой имя']"
   ]
  },
  {
   "cell_type": "code",
   "execution_count": 6,
   "id": "800becaf",
   "metadata": {},
   "outputs": [],
   "source": [
    "def insights(text):             # функция для разметки текста по ключевым словам\n",
    "    for i in list_greetings:\n",
    "        if i in text:\n",
    "            return 'greeting'\n",
    "    for i in list_goodbye:\n",
    "        if i in text:\n",
    "            return 'goodbye'\n",
    "    for i in list_introduce:\n",
    "        if i in text:\n",
    "            return 'introduce'           "
   ]
  },
  {
   "cell_type": "markdown",
   "id": "d009fc89",
   "metadata": {},
   "source": [
    "Применим функцию к тексту. Метки будут в отдельной колонке `insights`"
   ]
  },
  {
   "cell_type": "code",
   "execution_count": 7,
   "id": "bf01e049",
   "metadata": {},
   "outputs": [
    {
     "data": {
      "text/html": [
       "<div>\n",
       "<style scoped>\n",
       "    .dataframe tbody tr th:only-of-type {\n",
       "        vertical-align: middle;\n",
       "    }\n",
       "\n",
       "    .dataframe tbody tr th {\n",
       "        vertical-align: top;\n",
       "    }\n",
       "\n",
       "    .dataframe thead th {\n",
       "        text-align: right;\n",
       "    }\n",
       "</style>\n",
       "<table border=\"1\" class=\"dataframe\">\n",
       "  <thead>\n",
       "    <tr style=\"text-align: right;\">\n",
       "      <th></th>\n",
       "      <th>dlg_id</th>\n",
       "      <th>line_n</th>\n",
       "      <th>role</th>\n",
       "      <th>text</th>\n",
       "      <th>lemm_text</th>\n",
       "      <th>insights</th>\n",
       "    </tr>\n",
       "  </thead>\n",
       "  <tbody>\n",
       "    <tr>\n",
       "      <th>0</th>\n",
       "      <td>0</td>\n",
       "      <td>0</td>\n",
       "      <td>client</td>\n",
       "      <td>Алло</td>\n",
       "      <td>але</td>\n",
       "      <td>None</td>\n",
       "    </tr>\n",
       "    <tr>\n",
       "      <th>1</th>\n",
       "      <td>0</td>\n",
       "      <td>1</td>\n",
       "      <td>manager</td>\n",
       "      <td>Алло здравствуйте</td>\n",
       "      <td>але здравствовать</td>\n",
       "      <td>greeting</td>\n",
       "    </tr>\n",
       "    <tr>\n",
       "      <th>2</th>\n",
       "      <td>0</td>\n",
       "      <td>2</td>\n",
       "      <td>client</td>\n",
       "      <td>Добрый день</td>\n",
       "      <td>добрый день</td>\n",
       "      <td>greeting</td>\n",
       "    </tr>\n",
       "    <tr>\n",
       "      <th>3</th>\n",
       "      <td>0</td>\n",
       "      <td>3</td>\n",
       "      <td>manager</td>\n",
       "      <td>Меня зовут ангелина компания диджитал бизнес звоним вам по поводу продления лицензии а мы с серы...</td>\n",
       "      <td>я звать ангелина компания диджитать бизнес звонить вы по повод продление лицензия а мы с серый у...</td>\n",
       "      <td>introduce</td>\n",
       "    </tr>\n",
       "    <tr>\n",
       "      <th>4</th>\n",
       "      <td>0</td>\n",
       "      <td>4</td>\n",
       "      <td>client</td>\n",
       "      <td>Ага</td>\n",
       "      <td>ага</td>\n",
       "      <td>None</td>\n",
       "    </tr>\n",
       "  </tbody>\n",
       "</table>\n",
       "</div>"
      ],
      "text/plain": [
       "   dlg_id  line_n     role  \\\n",
       "0       0       0   client   \n",
       "1       0       1  manager   \n",
       "2       0       2   client   \n",
       "3       0       3  manager   \n",
       "4       0       4   client   \n",
       "\n",
       "                                                                                                  text  \\\n",
       "0                                                                                                 Алло   \n",
       "1                                                                                    Алло здравствуйте   \n",
       "2                                                                                          Добрый день   \n",
       "3  Меня зовут ангелина компания диджитал бизнес звоним вам по поводу продления лицензии а мы с серы...   \n",
       "4                                                                                                  Ага   \n",
       "\n",
       "                                                                                             lemm_text  \\\n",
       "0                                                                                                  але   \n",
       "1                                                                                    але здравствовать   \n",
       "2                                                                                          добрый день   \n",
       "3  я звать ангелина компания диджитать бизнес звонить вы по повод продление лицензия а мы с серый у...   \n",
       "4                                                                                                  ага   \n",
       "\n",
       "    insights  \n",
       "0       None  \n",
       "1   greeting  \n",
       "2   greeting  \n",
       "3  introduce  \n",
       "4       None  "
      ]
     },
     "metadata": {},
     "output_type": "display_data"
    }
   ],
   "source": [
    "df['insights'] = df['lemm_text'].apply(insights)\n",
    "display(df.head())"
   ]
  },
  {
   "cell_type": "code",
   "execution_count": 8,
   "id": "d5dff66d",
   "metadata": {},
   "outputs": [
    {
     "data": {
      "text/html": [
       "<div>\n",
       "<style scoped>\n",
       "    .dataframe tbody tr th:only-of-type {\n",
       "        vertical-align: middle;\n",
       "    }\n",
       "\n",
       "    .dataframe tbody tr th {\n",
       "        vertical-align: top;\n",
       "    }\n",
       "\n",
       "    .dataframe thead th {\n",
       "        text-align: right;\n",
       "    }\n",
       "</style>\n",
       "<table border=\"1\" class=\"dataframe\">\n",
       "  <thead>\n",
       "    <tr style=\"text-align: right;\">\n",
       "      <th></th>\n",
       "      <th>dlg_id</th>\n",
       "      <th>line_n</th>\n",
       "      <th>role</th>\n",
       "      <th>text</th>\n",
       "      <th>lemm_text</th>\n",
       "      <th>insights</th>\n",
       "    </tr>\n",
       "  </thead>\n",
       "  <tbody>\n",
       "    <tr>\n",
       "      <th>475</th>\n",
       "      <td>5</td>\n",
       "      <td>138</td>\n",
       "      <td>manager</td>\n",
       "      <td>По поводу виджетов и с ними уже обсудите конкретно продам</td>\n",
       "      <td>по повод виджет и с они уже обсуждать конкретно продавать</td>\n",
       "      <td>None</td>\n",
       "    </tr>\n",
       "    <tr>\n",
       "      <th>476</th>\n",
       "      <td>5</td>\n",
       "      <td>139</td>\n",
       "      <td>manager</td>\n",
       "      <td>Все я вам высылаю счет и с вами на связи если будут вопросы можете писать на ватсапе</td>\n",
       "      <td>все я вы высылать счет и с вы на связь если быть вопрос мочь писать на ватсапа</td>\n",
       "      <td>None</td>\n",
       "    </tr>\n",
       "    <tr>\n",
       "      <th>477</th>\n",
       "      <td>5</td>\n",
       "      <td>140</td>\n",
       "      <td>client</td>\n",
       "      <td>Спасибо спасибо</td>\n",
       "      <td>спасибо спасибо</td>\n",
       "      <td>None</td>\n",
       "    </tr>\n",
       "    <tr>\n",
       "      <th>478</th>\n",
       "      <td>5</td>\n",
       "      <td>141</td>\n",
       "      <td>client</td>\n",
       "      <td>Да да тогда созвонимся ага спасибо вам давайте</td>\n",
       "      <td>да да тогда созваниваться ага спасибо вы давать</td>\n",
       "      <td>None</td>\n",
       "    </tr>\n",
       "    <tr>\n",
       "      <th>479</th>\n",
       "      <td>5</td>\n",
       "      <td>142</td>\n",
       "      <td>manager</td>\n",
       "      <td>Ну до свидания хорошего вечера</td>\n",
       "      <td>ну до свидание хороший вечер</td>\n",
       "      <td>goodbye</td>\n",
       "    </tr>\n",
       "  </tbody>\n",
       "</table>\n",
       "</div>"
      ],
      "text/plain": [
       "     dlg_id  line_n     role  \\\n",
       "475       5     138  manager   \n",
       "476       5     139  manager   \n",
       "477       5     140   client   \n",
       "478       5     141   client   \n",
       "479       5     142  manager   \n",
       "\n",
       "                                                                                     text  \\\n",
       "475                             По поводу виджетов и с ними уже обсудите конкретно продам   \n",
       "476  Все я вам высылаю счет и с вами на связи если будут вопросы можете писать на ватсапе   \n",
       "477                                                                       Спасибо спасибо   \n",
       "478                                        Да да тогда созвонимся ага спасибо вам давайте   \n",
       "479                                                        Ну до свидания хорошего вечера   \n",
       "\n",
       "                                                                          lemm_text  \\\n",
       "475                       по повод виджет и с они уже обсуждать конкретно продавать   \n",
       "476  все я вы высылать счет и с вы на связь если быть вопрос мочь писать на ватсапа   \n",
       "477                                                                 спасибо спасибо   \n",
       "478                                 да да тогда созваниваться ага спасибо вы давать   \n",
       "479                                                    ну до свидание хороший вечер   \n",
       "\n",
       "    insights  \n",
       "475     None  \n",
       "476     None  \n",
       "477     None  \n",
       "478     None  \n",
       "479  goodbye  "
      ]
     },
     "metadata": {},
     "output_type": "display_data"
    }
   ],
   "source": [
    "display(df.tail())"
   ]
  },
  {
   "cell_type": "markdown",
   "id": "fd8f7495",
   "metadata": {},
   "source": [
    "Напишем функцию для извлечения реплик менеджера  по меткам"
   ]
  },
  {
   "cell_type": "code",
   "execution_count": 9,
   "id": "6631c994",
   "metadata": {},
   "outputs": [],
   "source": [
    "def extract_repl(insights):                                              #insights указывать в кавычках\n",
    "    df_cut = df[(df['role']=='manager')&(df['insights']==insights)]\n",
    "    df_cut= df_cut.drop('lemm_text', axis =1)\n",
    "    display(df_cut)"
   ]
  },
  {
   "cell_type": "markdown",
   "id": "ccef0670",
   "metadata": {},
   "source": [
    "Реплики с приветствием – где менеджер поздоровался."
   ]
  },
  {
   "cell_type": "code",
   "execution_count": 10,
   "id": "76ea6ce1",
   "metadata": {},
   "outputs": [
    {
     "data": {
      "text/html": [
       "<div>\n",
       "<style scoped>\n",
       "    .dataframe tbody tr th:only-of-type {\n",
       "        vertical-align: middle;\n",
       "    }\n",
       "\n",
       "    .dataframe tbody tr th {\n",
       "        vertical-align: top;\n",
       "    }\n",
       "\n",
       "    .dataframe thead th {\n",
       "        text-align: right;\n",
       "    }\n",
       "</style>\n",
       "<table border=\"1\" class=\"dataframe\">\n",
       "  <thead>\n",
       "    <tr style=\"text-align: right;\">\n",
       "      <th></th>\n",
       "      <th>dlg_id</th>\n",
       "      <th>line_n</th>\n",
       "      <th>role</th>\n",
       "      <th>text</th>\n",
       "      <th>insights</th>\n",
       "    </tr>\n",
       "  </thead>\n",
       "  <tbody>\n",
       "    <tr>\n",
       "      <th>1</th>\n",
       "      <td>0</td>\n",
       "      <td>1</td>\n",
       "      <td>manager</td>\n",
       "      <td>Алло здравствуйте</td>\n",
       "      <td>greeting</td>\n",
       "    </tr>\n",
       "    <tr>\n",
       "      <th>110</th>\n",
       "      <td>1</td>\n",
       "      <td>1</td>\n",
       "      <td>manager</td>\n",
       "      <td>Алло здравствуйте</td>\n",
       "      <td>greeting</td>\n",
       "    </tr>\n",
       "    <tr>\n",
       "      <th>166</th>\n",
       "      <td>2</td>\n",
       "      <td>2</td>\n",
       "      <td>manager</td>\n",
       "      <td>Алло здравствуйте</td>\n",
       "      <td>greeting</td>\n",
       "    </tr>\n",
       "    <tr>\n",
       "      <th>250</th>\n",
       "      <td>3</td>\n",
       "      <td>1</td>\n",
       "      <td>manager</td>\n",
       "      <td>Алло дмитрий добрый день</td>\n",
       "      <td>greeting</td>\n",
       "    </tr>\n",
       "  </tbody>\n",
       "</table>\n",
       "</div>"
      ],
      "text/plain": [
       "     dlg_id  line_n     role                      text  insights\n",
       "1         0       1  manager         Алло здравствуйте  greeting\n",
       "110       1       1  manager         Алло здравствуйте  greeting\n",
       "166       2       2  manager         Алло здравствуйте  greeting\n",
       "250       3       1  manager  Алло дмитрий добрый день  greeting"
      ]
     },
     "metadata": {},
     "output_type": "display_data"
    }
   ],
   "source": [
    "extract_repl('greeting')"
   ]
  },
  {
   "cell_type": "markdown",
   "id": "f97c165f",
   "metadata": {},
   "source": [
    "Реплики, где менеджер представил себя."
   ]
  },
  {
   "cell_type": "code",
   "execution_count": 11,
   "id": "19b911b6",
   "metadata": {},
   "outputs": [
    {
     "data": {
      "text/html": [
       "<div>\n",
       "<style scoped>\n",
       "    .dataframe tbody tr th:only-of-type {\n",
       "        vertical-align: middle;\n",
       "    }\n",
       "\n",
       "    .dataframe tbody tr th {\n",
       "        vertical-align: top;\n",
       "    }\n",
       "\n",
       "    .dataframe thead th {\n",
       "        text-align: right;\n",
       "    }\n",
       "</style>\n",
       "<table border=\"1\" class=\"dataframe\">\n",
       "  <thead>\n",
       "    <tr style=\"text-align: right;\">\n",
       "      <th></th>\n",
       "      <th>dlg_id</th>\n",
       "      <th>line_n</th>\n",
       "      <th>role</th>\n",
       "      <th>text</th>\n",
       "      <th>insights</th>\n",
       "    </tr>\n",
       "  </thead>\n",
       "  <tbody>\n",
       "    <tr>\n",
       "      <th>3</th>\n",
       "      <td>0</td>\n",
       "      <td>3</td>\n",
       "      <td>manager</td>\n",
       "      <td>Меня зовут ангелина компания диджитал бизнес звоним вам по поводу продления лицензии а мы с серы...</td>\n",
       "      <td>introduce</td>\n",
       "    </tr>\n",
       "    <tr>\n",
       "      <th>111</th>\n",
       "      <td>1</td>\n",
       "      <td>2</td>\n",
       "      <td>manager</td>\n",
       "      <td>Меня зовут ангелина компания диджитал бизнес звоню вам по поводу продления а мы сели обратила вн...</td>\n",
       "      <td>introduce</td>\n",
       "    </tr>\n",
       "    <tr>\n",
       "      <th>167</th>\n",
       "      <td>2</td>\n",
       "      <td>3</td>\n",
       "      <td>manager</td>\n",
       "      <td>Меня зовут ангелина компания диджитал бизнес звоню вам по поводу продления лицензии а мастера мы...</td>\n",
       "      <td>introduce</td>\n",
       "    </tr>\n",
       "    <tr>\n",
       "      <th>251</th>\n",
       "      <td>3</td>\n",
       "      <td>2</td>\n",
       "      <td>manager</td>\n",
       "      <td>Добрый меня максим зовут компания китобизнес удобно говорить</td>\n",
       "      <td>introduce</td>\n",
       "    </tr>\n",
       "  </tbody>\n",
       "</table>\n",
       "</div>"
      ],
      "text/plain": [
       "     dlg_id  line_n     role  \\\n",
       "3         0       3  manager   \n",
       "111       1       2  manager   \n",
       "167       2       3  manager   \n",
       "251       3       2  manager   \n",
       "\n",
       "                                                                                                    text  \\\n",
       "3    Меня зовут ангелина компания диджитал бизнес звоним вам по поводу продления лицензии а мы с серы...   \n",
       "111  Меня зовут ангелина компания диджитал бизнес звоню вам по поводу продления а мы сели обратила вн...   \n",
       "167  Меня зовут ангелина компания диджитал бизнес звоню вам по поводу продления лицензии а мастера мы...   \n",
       "251                                         Добрый меня максим зовут компания китобизнес удобно говорить   \n",
       "\n",
       "      insights  \n",
       "3    introduce  \n",
       "111  introduce  \n",
       "167  introduce  \n",
       "251  introduce  "
      ]
     },
     "metadata": {},
     "output_type": "display_data"
    }
   ],
   "source": [
    "extract_repl('introduce')"
   ]
  },
  {
   "cell_type": "markdown",
   "id": "ed400a93",
   "metadata": {},
   "source": [
    "Реплики, где менеджер попрощался."
   ]
  },
  {
   "cell_type": "code",
   "execution_count": 12,
   "id": "c77bcef0",
   "metadata": {},
   "outputs": [
    {
     "data": {
      "text/html": [
       "<div>\n",
       "<style scoped>\n",
       "    .dataframe tbody tr th:only-of-type {\n",
       "        vertical-align: middle;\n",
       "    }\n",
       "\n",
       "    .dataframe tbody tr th {\n",
       "        vertical-align: top;\n",
       "    }\n",
       "\n",
       "    .dataframe thead th {\n",
       "        text-align: right;\n",
       "    }\n",
       "</style>\n",
       "<table border=\"1\" class=\"dataframe\">\n",
       "  <thead>\n",
       "    <tr style=\"text-align: right;\">\n",
       "      <th></th>\n",
       "      <th>dlg_id</th>\n",
       "      <th>line_n</th>\n",
       "      <th>role</th>\n",
       "      <th>text</th>\n",
       "      <th>insights</th>\n",
       "    </tr>\n",
       "  </thead>\n",
       "  <tbody>\n",
       "    <tr>\n",
       "      <th>108</th>\n",
       "      <td>0</td>\n",
       "      <td>108</td>\n",
       "      <td>manager</td>\n",
       "      <td>Всего хорошего до свидания</td>\n",
       "      <td>goodbye</td>\n",
       "    </tr>\n",
       "    <tr>\n",
       "      <th>163</th>\n",
       "      <td>1</td>\n",
       "      <td>54</td>\n",
       "      <td>manager</td>\n",
       "      <td>До свидания</td>\n",
       "      <td>goodbye</td>\n",
       "    </tr>\n",
       "    <tr>\n",
       "      <th>335</th>\n",
       "      <td>4</td>\n",
       "      <td>33</td>\n",
       "      <td>manager</td>\n",
       "      <td>Во вторник все ну с вами да тогда до вторника до свидания</td>\n",
       "      <td>goodbye</td>\n",
       "    </tr>\n",
       "    <tr>\n",
       "      <th>479</th>\n",
       "      <td>5</td>\n",
       "      <td>142</td>\n",
       "      <td>manager</td>\n",
       "      <td>Ну до свидания хорошего вечера</td>\n",
       "      <td>goodbye</td>\n",
       "    </tr>\n",
       "  </tbody>\n",
       "</table>\n",
       "</div>"
      ],
      "text/plain": [
       "     dlg_id  line_n     role  \\\n",
       "108       0     108  manager   \n",
       "163       1      54  manager   \n",
       "335       4      33  manager   \n",
       "479       5     142  manager   \n",
       "\n",
       "                                                          text insights  \n",
       "108                                 Всего хорошего до свидания  goodbye  \n",
       "163                                                До свидания  goodbye  \n",
       "335  Во вторник все ну с вами да тогда до вторника до свидания  goodbye  \n",
       "479                             Ну до свидания хорошего вечера  goodbye  "
      ]
     },
     "metadata": {},
     "output_type": "display_data"
    }
   ],
   "source": [
    "extract_repl('goodbye')"
   ]
  },
  {
   "cell_type": "markdown",
   "id": "10f3fa81",
   "metadata": {},
   "source": [
    "Напишем фунцкию, которая будет проверять требование к менеджеру: «В каждом диалоге обязательно необходимо поздороваться и попрощаться с клиентом»"
   ]
  },
  {
   "cell_type": "code",
   "execution_count": 13,
   "id": "2ea67dbd",
   "metadata": {},
   "outputs": [],
   "source": [
    "def check_alldialogs(role):\n",
    "    dlg_list=list(df['dlg_id'].unique())\n",
    "    for i in dlg_list:\n",
    "        df_ch = df[(df['dlg_id']==i)&(df['role']==role)]\n",
    "        if len(df_ch[df_ch['insights']=='goodbye'])>=1 and len(df_ch[df_ch['insights']=='greeting'])>=1:\n",
    "            print ('Диалог', i ,': Менеджер поздоровался и попрощался с клиентом')\n",
    "        elif len(df_ch[df_ch['insights']=='goodbye'])>=1 and len(df_ch[df_ch['insights']=='greeting'])==0:\n",
    "            print ('Диалог', i ,': Менеджер, вероятно, не поздоровался с клиентом') \n",
    "        elif len(df_ch[df_ch['insights']=='goodbye'])==0 and len(df_ch[df_ch['insights']=='greeting'])>=1:\n",
    "            print ('Диалог', i ,': Менеджер, вероятно, не попрощался с клиентом')  \n",
    "        elif len(df_ch[df_ch['insights']=='goodbye'])==0 and len(df_ch[df_ch['insights']=='greeting'])==0:\n",
    "            print ('Диалог', i ,': Менеджер, вероятно, не поздоровался и не попрощался с клиентом')     "
   ]
  },
  {
   "cell_type": "markdown",
   "id": "34fb8c66",
   "metadata": {},
   "source": [
    "Проверим функцию на тексте"
   ]
  },
  {
   "cell_type": "code",
   "execution_count": 14,
   "id": "01bc6da3",
   "metadata": {},
   "outputs": [
    {
     "name": "stdout",
     "output_type": "stream",
     "text": [
      "Диалог 0 : Менеджер поздоровался и попрощался с клиентом\n",
      "Диалог 1 : Менеджер поздоровался и попрощался с клиентом\n",
      "Диалог 2 : Менеджер, вероятно, не попрощался с клиентом\n",
      "Диалог 3 : Менеджер, вероятно, не попрощался с клиентом\n",
      "Диалог 4 : Менеджер, вероятно, не поздоровался с клиентом\n",
      "Диалог 5 : Менеджер, вероятно, не поздоровался с клиентом\n"
     ]
    }
   ],
   "source": [
    "check_alldialogs('manager')"
   ]
  },
  {
   "cell_type": "markdown",
   "id": "564034db",
   "metadata": {},
   "source": [
    "Проверим реплики менеджера, где он называл себя. Как правило пердставляют себя фразами: \"Мое имя...\" , \"Меня зовут..\"\n",
    "Проверим в тексте какие слова использовались менеджерами. Ключевые слова: \"имя\" и \"звать\""
   ]
  },
  {
   "cell_type": "code",
   "execution_count": 15,
   "id": "65a618c0",
   "metadata": {},
   "outputs": [
    {
     "data": {
      "text/plain": [
       "False    201\n",
       "Name: lemm_text, dtype: int64"
      ]
     },
     "execution_count": 15,
     "metadata": {},
     "output_type": "execute_result"
    }
   ],
   "source": [
    "df[(df['role']=='manager')]['lemm_text'].str.contains('имя', regex=False, case=False, na=False).value_counts()"
   ]
  },
  {
   "cell_type": "code",
   "execution_count": 16,
   "id": "fa60bd6b",
   "metadata": {},
   "outputs": [
    {
     "data": {
      "text/plain": [
       "False    197\n",
       "True       4\n",
       "Name: lemm_text, dtype: int64"
      ]
     },
     "execution_count": 16,
     "metadata": {},
     "output_type": "execute_result"
    }
   ],
   "source": [
    "df[(df['role']=='manager')]['lemm_text'].str.contains('звать', regex=False, case=False, na=False).value_counts()"
   ]
  },
  {
   "cell_type": "markdown",
   "id": "0526fa59",
   "metadata": {},
   "source": [
    "Найдены реплики только со словом \"звать\". По этому слову напишем функцию, которая будет искать соседние слова. Так как в речи возможно упортебление имени и до и после слова \"звать\", то будем извлекать по 1 слову справа и слева "
   ]
  },
  {
   "cell_type": "code",
   "execution_count": 17,
   "id": "1cb50c5d",
   "metadata": {},
   "outputs": [],
   "source": [
    "def names(role):\n",
    "    df_intr=df[(df['role']==role)&(df['insights']=='introduce')]\n",
    "    dlg_list=set(df_intr['dlg_id'].unique())\n",
    "    for i in dlg_list:\n",
    "        names= str(df_intr[df['dlg_id']==i]['lemm_text'])\n",
    "        names_before=names.split(\"звать\", 1)[0].split()[-1]\n",
    "        names_after=names.split(\"звать\", 1)[1].split()[0]\n",
    "        print(\"Диалог\", i, \": \" , names_before, names_after)\n",
    "    dlg_list_all=set(df['dlg_id'].unique())  \n",
    "    diff = dlg_list_all- dlg_list    # поиск диалогов, в которых не найдено ключевое слово\n",
    "    for j in diff:\n",
    "        print('Диалог', j, \": \" , \"Имя не найдено\")"
   ]
  },
  {
   "cell_type": "code",
   "execution_count": 18,
   "id": "65949b68",
   "metadata": {},
   "outputs": [
    {
     "name": "stdout",
     "output_type": "stream",
     "text": [
      "Диалог 0 :  я ангелина\n",
      "Диалог 1 :  я ангелина\n",
      "Диалог 2 :  я ангелина\n",
      "Диалог 3 :  максим компания\n",
      "Диалог 4 :  Имя не найдено\n",
      "Диалог 5 :  Имя не найдено\n"
     ]
    }
   ],
   "source": [
    "names('manager')"
   ]
  },
  {
   "cell_type": "markdown",
   "id": "1c23b49e",
   "metadata": {},
   "source": [
    "Напишем функцию для извлечения названия компании. Так как назвние компании может состоять из нескольких слов, извлечем из текста несколько слов после слова \"компания\""
   ]
  },
  {
   "cell_type": "code",
   "execution_count": 19,
   "id": "39ae827a",
   "metadata": {},
   "outputs": [],
   "source": [
    "def extract_company():\n",
    "    def company(text):\n",
    "        if 'компания ' in text:\n",
    "            pattern =r'компан..\\s+\\w+\\s+\\w+\\s+\\w+'\n",
    "            result = re.findall(pattern, text)\n",
    "            return result\n",
    "    df['company'] = df['text'].apply(company)\n",
    "    df_comp= df[(df['role']=='manager')&(df['company'].notnull())&(df['line_n']<15)]\n",
    "    df_comp=df_comp.drop(['lemm_text', 'insights'], axis=1)\n",
    "    print('Название компании содержится в колонке', '\\033[1m' + 'company' + '\\033[0m')\n",
    "    display(df_comp)"
   ]
  },
  {
   "cell_type": "markdown",
   "id": "262c7b77",
   "metadata": {},
   "source": [
    "Проверим на тексте"
   ]
  },
  {
   "cell_type": "code",
   "execution_count": 20,
   "id": "0b9c9e70",
   "metadata": {},
   "outputs": [
    {
     "name": "stdout",
     "output_type": "stream",
     "text": [
      "Название компании содержится в колонке \u001b[1mcompany\u001b[0m\n"
     ]
    },
    {
     "data": {
      "text/html": [
       "<div>\n",
       "<style scoped>\n",
       "    .dataframe tbody tr th:only-of-type {\n",
       "        vertical-align: middle;\n",
       "    }\n",
       "\n",
       "    .dataframe tbody tr th {\n",
       "        vertical-align: top;\n",
       "    }\n",
       "\n",
       "    .dataframe thead th {\n",
       "        text-align: right;\n",
       "    }\n",
       "</style>\n",
       "<table border=\"1\" class=\"dataframe\">\n",
       "  <thead>\n",
       "    <tr style=\"text-align: right;\">\n",
       "      <th></th>\n",
       "      <th>dlg_id</th>\n",
       "      <th>line_n</th>\n",
       "      <th>role</th>\n",
       "      <th>text</th>\n",
       "      <th>company</th>\n",
       "    </tr>\n",
       "  </thead>\n",
       "  <tbody>\n",
       "    <tr>\n",
       "      <th>3</th>\n",
       "      <td>0</td>\n",
       "      <td>3</td>\n",
       "      <td>manager</td>\n",
       "      <td>Меня зовут ангелина компания диджитал бизнес звоним вам по поводу продления лицензии а мы с серы...</td>\n",
       "      <td>[компания диджитал бизнес звоним]</td>\n",
       "    </tr>\n",
       "    <tr>\n",
       "      <th>111</th>\n",
       "      <td>1</td>\n",
       "      <td>2</td>\n",
       "      <td>manager</td>\n",
       "      <td>Меня зовут ангелина компания диджитал бизнес звоню вам по поводу продления а мы сели обратила вн...</td>\n",
       "      <td>[компания диджитал бизнес звоню]</td>\n",
       "    </tr>\n",
       "    <tr>\n",
       "      <th>167</th>\n",
       "      <td>2</td>\n",
       "      <td>3</td>\n",
       "      <td>manager</td>\n",
       "      <td>Меня зовут ангелина компания диджитал бизнес звоню вам по поводу продления лицензии а мастера мы...</td>\n",
       "      <td>[компания диджитал бизнес звоню]</td>\n",
       "    </tr>\n",
       "    <tr>\n",
       "      <th>251</th>\n",
       "      <td>3</td>\n",
       "      <td>2</td>\n",
       "      <td>manager</td>\n",
       "      <td>Добрый меня максим зовут компания китобизнес удобно говорить</td>\n",
       "      <td>[компания китобизнес удобно говорить]</td>\n",
       "    </tr>\n",
       "  </tbody>\n",
       "</table>\n",
       "</div>"
      ],
      "text/plain": [
       "     dlg_id  line_n     role  \\\n",
       "3         0       3  manager   \n",
       "111       1       2  manager   \n",
       "167       2       3  manager   \n",
       "251       3       2  manager   \n",
       "\n",
       "                                                                                                    text  \\\n",
       "3    Меня зовут ангелина компания диджитал бизнес звоним вам по поводу продления лицензии а мы с серы...   \n",
       "111  Меня зовут ангелина компания диджитал бизнес звоню вам по поводу продления а мы сели обратила вн...   \n",
       "167  Меня зовут ангелина компания диджитал бизнес звоню вам по поводу продления лицензии а мастера мы...   \n",
       "251                                         Добрый меня максим зовут компания китобизнес удобно говорить   \n",
       "\n",
       "                                   company  \n",
       "3        [компания диджитал бизнес звоним]  \n",
       "111       [компания диджитал бизнес звоню]  \n",
       "167       [компания диджитал бизнес звоню]  \n",
       "251  [компания китобизнес удобно говорить]  "
      ]
     },
     "metadata": {},
     "output_type": "display_data"
    }
   ],
   "source": [
    "extract_company()"
   ]
  }
 ],
 "metadata": {
  "kernelspec": {
   "display_name": "Python 3",
   "language": "python",
   "name": "python3"
  },
  "language_info": {
   "codemirror_mode": {
    "name": "ipython",
    "version": 3
   },
   "file_extension": ".py",
   "mimetype": "text/x-python",
   "name": "python",
   "nbconvert_exporter": "python",
   "pygments_lexer": "ipython3",
   "version": "3.8.8"
  }
 },
 "nbformat": 4,
 "nbformat_minor": 5
}
